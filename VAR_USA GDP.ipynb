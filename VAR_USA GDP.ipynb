{
 "cells": [
  {
   "cell_type": "code",
   "execution_count": 2,
   "id": "706ef2a4",
   "metadata": {},
   "outputs": [],
   "source": [
    "import pandas as pd\n",
    "import matplotlib.pyplot as plt\n",
    "from pandas import read_excel\n",
    "import numpy as np\n",
    "from statsmodels.tsa.api import VAR\n",
    "from statsmodels.tsa.stattools import adfuller\n",
    "from statsmodels.tools.eval_measures import rmse,aic"
   ]
  },
  {
   "cell_type": "markdown",
   "id": "35568b45",
   "metadata": {},
   "source": [
    "# Data Importing"
   ]
  },
  {
   "cell_type": "code",
   "execution_count": 4,
   "id": "657787f7",
   "metadata": {},
   "outputs": [
    {
     "data": {
      "text/html": [
       "<div>\n",
       "<style scoped>\n",
       "    .dataframe tbody tr th:only-of-type {\n",
       "        vertical-align: middle;\n",
       "    }\n",
       "\n",
       "    .dataframe tbody tr th {\n",
       "        vertical-align: top;\n",
       "    }\n",
       "\n",
       "    .dataframe thead th {\n",
       "        text-align: right;\n",
       "    }\n",
       "</style>\n",
       "<table border=\"1\" class=\"dataframe\">\n",
       "  <thead>\n",
       "    <tr style=\"text-align: right;\">\n",
       "      <th></th>\n",
       "      <th>GDP</th>\n",
       "      <th>TOTALSL</th>\n",
       "      <th>GFDEBTN</th>\n",
       "    </tr>\n",
       "    <tr>\n",
       "      <th>observation_date</th>\n",
       "      <th></th>\n",
       "      <th></th>\n",
       "      <th></th>\n",
       "    </tr>\n",
       "  </thead>\n",
       "  <tbody>\n",
       "    <tr>\n",
       "      <th>1966-01-01</th>\n",
       "      <td>795.734</td>\n",
       "      <td>97.745157</td>\n",
       "      <td>320999</td>\n",
       "    </tr>\n",
       "    <tr>\n",
       "      <th>1966-04-01</th>\n",
       "      <td>804.981</td>\n",
       "      <td>99.299733</td>\n",
       "      <td>316097</td>\n",
       "    </tr>\n",
       "    <tr>\n",
       "      <th>1966-07-01</th>\n",
       "      <td>819.638</td>\n",
       "      <td>100.440197</td>\n",
       "      <td>324748</td>\n",
       "    </tr>\n",
       "    <tr>\n",
       "      <th>1966-10-01</th>\n",
       "      <td>833.302</td>\n",
       "      <td>101.392880</td>\n",
       "      <td>329319</td>\n",
       "    </tr>\n",
       "    <tr>\n",
       "      <th>1967-01-01</th>\n",
       "      <td>844.170</td>\n",
       "      <td>102.431100</td>\n",
       "      <td>330947</td>\n",
       "    </tr>\n",
       "  </tbody>\n",
       "</table>\n",
       "</div>"
      ],
      "text/plain": [
       "                      GDP     TOTALSL  GFDEBTN\n",
       "observation_date                              \n",
       "1966-01-01        795.734   97.745157   320999\n",
       "1966-04-01        804.981   99.299733   316097\n",
       "1966-07-01        819.638  100.440197   324748\n",
       "1966-10-01        833.302  101.392880   329319\n",
       "1967-01-01        844.170  102.431100   330947"
      ]
     },
     "execution_count": 4,
     "metadata": {},
     "output_type": "execute_result"
    }
   ],
   "source": [
    "Data=read_excel('C:/Users/vista/Desktop/GDP.xlsx', index_col=\"observation_date\")\n",
    "#TOALSL -> Total Consumer Credit Owned and Securitized, Billions of Dollars, Quarterly, Seasonally Adjusted\n",
    "#GFDEBTN -> Federal Debt: Total Public Debt, Millions of Dollars, Quarterly, Not Seasonally Adjusted\n",
    "Data.head(5)"
   ]
  },
  {
   "cell_type": "code",
   "execution_count": 5,
   "id": "2f29bfbd",
   "metadata": {},
   "outputs": [
    {
     "data": {
      "image/png": "[encoded data removed]",
      "text/plain": [
       "<Figure size 432x288 with 1 Axes>"
      ]
     },
     "metadata": {
      "needs_background": "light"
     },
     "output_type": "display_data"
    }
   ],
   "source": [
    "plt.plot(Data.GDP)\n",
    "plt.show()"
   ]
  },
  {
   "cell_type": "markdown",
   "id": "3a6e1c73",
   "metadata": {},
   "source": [
    "# Granjer Test"
   ]
  },
  {
   "cell_type": "code",
   "execution_count": 6,
   "id": "4c41eda3",
   "metadata": {},
   "outputs": [],
   "source": [
    "def grangers_causation_matrix(data, variables, test='ssr_chi2test',verbose=False):\n",
    "    df = pd.DataFrame(np.zeros((len(variables), len(variables))), columns=variables, index=variables)\n",
    "    for c in df.columns:\n",
    "        for r in df.index:\n",
    "            test_result = grangercausalitytests(data[[r, c]], maxlag=maxlag,verbose=False)\n",
    "            p_values = [round(test_result[i+1][0][test][1],4) for i in range(maxlag)]\n",
    "            min_p_value = np.min(p_values)\n",
    "            df.loc[r, c] = min_p_value\n",
    "    df.columns = [var + '_x' for var in variables]\n",
    "    df.index = [var + '_y' for var in variables]\n",
    "    return df"
   ]
  },
  {
   "cell_type": "code",
   "execution_count": 7,
   "id": "47f6adc7",
   "metadata": {},
   "outputs": [
    {
     "data": {
      "text/html": [
       "<div>\n",
       "<style scoped>\n",
       "    .dataframe tbody tr th:only-of-type {\n",
       "        vertical-align: middle;\n",
       "    }\n",
       "\n",
       "    .dataframe tbody tr th {\n",
       "        vertical-align: top;\n",
       "    }\n",
       "\n",
       "    .dataframe thead th {\n",
       "        text-align: right;\n",
       "    }\n",
       "</style>\n",
       "<table border=\"1\" class=\"dataframe\">\n",
       "  <thead>\n",
       "    <tr style=\"text-align: right;\">\n",
       "      <th></th>\n",
       "      <th>GDP_x</th>\n",
       "      <th>TOTALSL_x</th>\n",
       "      <th>GFDEBTN_x</th>\n",
       "    </tr>\n",
       "  </thead>\n",
       "  <tbody>\n",
       "    <tr>\n",
       "      <th>GDP_y</th>\n",
       "      <td>1.0</td>\n",
       "      <td>0.3183</td>\n",
       "      <td>0.0000</td>\n",
       "    </tr>\n",
       "    <tr>\n",
       "      <th>TOTALSL_y</th>\n",
       "      <td>0.0</td>\n",
       "      <td>1.0000</td>\n",
       "      <td>0.0274</td>\n",
       "    </tr>\n",
       "    <tr>\n",
       "      <th>GFDEBTN_y</th>\n",
       "      <td>0.0</td>\n",
       "      <td>0.0000</td>\n",
       "      <td>1.0000</td>\n",
       "    </tr>\n",
       "  </tbody>\n",
       "</table>\n",
       "</div>"
      ],
      "text/plain": [
       "           GDP_x  TOTALSL_x  GFDEBTN_x\n",
       "GDP_y        1.0     0.3183     0.0000\n",
       "TOTALSL_y    0.0     1.0000     0.0274\n",
       "GFDEBTN_y    0.0     0.0000     1.0000"
      ]
     },
     "execution_count": 7,
     "metadata": {},
     "output_type": "execute_result"
    }
   ],
   "source": [
    "maxlag=7\n",
    "test='ssr_chi2test'\n",
    "from statsmodels.tsa.stattools import grangercausalitytests\n",
    "grangers_causation_matrix(Data,variables=Data.columns)"
   ]
  },
  {
   "cell_type": "markdown",
   "id": "45a17c66",
   "metadata": {},
   "source": [
    "# Cointigration Test"
   ]
  },
  {
   "cell_type": "code",
   "execution_count": 8,
   "id": "dc20b338",
   "metadata": {},
   "outputs": [],
   "source": [
    "from statsmodels.tsa.vector_ar.vecm import coint_johansen\n",
    "def cointegration(df,alpha=0.05):\n",
    "    out=coint_johansen(df,-1,5)\n",
    "    d={'0.90':0 ,'0.95':1,'0.99':2}\n",
    "    traces=out.lr1\n",
    "    cvs=out.cvt[:,d[str(1-alpha)]]\n",
    "    def adjust(val,length=6):return str(val).ljust(length)\n",
    "    print('Name   :: test stat  > C(95%)  ==>  signif \\n ','--'*30)\n",
    "    for col,trace,cvt in zip(df.columns,traces,cvs):\n",
    "        print(adjust(col), '::' ,adjust(round(trace,2),10), \">\" ,adjust(round(cvt,2),8),\"==>\" ,trace>cvt)"
   ]
  },
  {
   "cell_type": "code",
   "execution_count": 9,
   "id": "e38fe54a",
   "metadata": {},
   "outputs": [
    {
     "name": "stdout",
     "output_type": "stream",
     "text": [
      "Name   :: test stat  > C(95%)  ==>  signif \n",
      "  ------------------------------------------------------------\n",
      "GDP    :: 40.34      > 24.28    ==> True\n",
      "TOTALSL :: 16.19      > 12.32    ==> True\n",
      "GFDEBTN :: 5.07       > 4.13     ==> True\n"
     ]
    }
   ],
   "source": [
    "cointegration(Data)"
   ]
  },
  {
   "cell_type": "markdown",
   "id": "50f0bc83",
   "metadata": {},
   "source": [
    "## همگی ترکیب های خطی روی متغیرها تعادل بلند مدت دارند"
   ]
  },
  {
   "cell_type": "markdown",
   "id": "a49c98f5",
   "metadata": {},
   "source": [
    "# Test for Staionary"
   ]
  },
  {
   "cell_type": "code",
   "execution_count": 10,
   "id": "5425f37e",
   "metadata": {},
   "outputs": [],
   "source": [
    "Data_train=Data[0:-20]\n",
    "Data_test=Data[-20:]"
   ]
  },
  {
   "cell_type": "code",
   "execution_count": 11,
   "id": "724a1461",
   "metadata": {},
   "outputs": [],
   "source": [
    "def ad_test(series,name='',signif=0.05,verbose=False):\n",
    "    out=adfuller(series)\n",
    "    p_value=round(out[1],4)\n",
    "    print(f'adfuller test on \"{name}\"','\\n','--'*30)\n",
    "    if p_value<=signif:\n",
    "        print(f'==> p_value={p_value} rejecting null hypothesis')\n",
    "        print('==> series is stationary')\n",
    "    else:\n",
    "        print(f'==> p_value={p_value} can not reject the null hypothesis')\n",
    "        print('==> series is non-stationary')"
   ]
  },
  {
   "cell_type": "code",
   "execution_count": 12,
   "id": "828ef70a",
   "metadata": {},
   "outputs": [
    {
     "name": "stdout",
     "output_type": "stream",
     "text": [
      "adfuller test on \"GDP\" \n",
      " ------------------------------------------------------------\n",
      "==> p_value=1.0 can not reject the null hypothesis\n",
      "==> series is non-stationary\n",
      "\n",
      "\n",
      "adfuller test on \"TOTALSL\" \n",
      " ------------------------------------------------------------\n",
      "==> p_value=0.9991 can not reject the null hypothesis\n",
      "==> series is non-stationary\n",
      "\n",
      "\n",
      "adfuller test on \"GFDEBTN\" \n",
      " ------------------------------------------------------------\n",
      "==> p_value=1.0 can not reject the null hypothesis\n",
      "==> series is non-stationary\n",
      "\n",
      "\n"
     ]
    }
   ],
   "source": [
    "for name,column in Data_train.items():\n",
    "    ad_test(column,name=column.name)\n",
    "    print('\\n')"
   ]
  },
  {
   "cell_type": "markdown",
   "id": "6ea5ade3",
   "metadata": {},
   "source": [
    "## هر سه سری مانا نیستند"
   ]
  },
  {
   "cell_type": "markdown",
   "id": "9afd0734",
   "metadata": {},
   "source": [
    "# doing Staionary by diffrencing"
   ]
  },
  {
   "cell_type": "code",
   "execution_count": 13,
   "id": "c56230b6",
   "metadata": {},
   "outputs": [
    {
     "name": "stdout",
     "output_type": "stream",
     "text": [
      "adfuller test on \"GDP\" \n",
      " ------------------------------------------------------------\n",
      "==> p_value=0.0007 rejecting null hypothesis\n",
      "==> series is stationary\n",
      "\n",
      "\n",
      "adfuller test on \"TOTALSL\" \n",
      " ------------------------------------------------------------\n",
      "==> p_value=0.0089 rejecting null hypothesis\n",
      "==> series is stationary\n",
      "\n",
      "\n",
      "adfuller test on \"GFDEBTN\" \n",
      " ------------------------------------------------------------\n",
      "==> p_value=0.7686 can not reject the null hypothesis\n",
      "==> series is non-stationary\n",
      "\n",
      "\n"
     ]
    }
   ],
   "source": [
    "Data_differenced=Data_train.diff().dropna()\n",
    "for name,column in Data_differenced.items():\n",
    "    ad_test(column,name=column.name)\n",
    "    print('\\n')"
   ]
  },
  {
   "cell_type": "code",
   "execution_count": 14,
   "id": "25a8b9a3",
   "metadata": {},
   "outputs": [
    {
     "name": "stdout",
     "output_type": "stream",
     "text": [
      "adfuller test on \"GDP\" \n",
      " ------------------------------------------------------------\n",
      "==> p_value=0.0 rejecting null hypothesis\n",
      "==> series is stationary\n",
      "\n",
      "\n",
      "adfuller test on \"TOTALSL\" \n",
      " ------------------------------------------------------------\n",
      "==> p_value=0.0 rejecting null hypothesis\n",
      "==> series is stationary\n",
      "\n",
      "\n",
      "adfuller test on \"GFDEBTN\" \n",
      " ------------------------------------------------------------\n",
      "==> p_value=0.0 rejecting null hypothesis\n",
      "==> series is stationary\n",
      "\n",
      "\n"
     ]
    }
   ],
   "source": [
    "Data_differenced=Data_differenced.diff().dropna()\n",
    "for name,column in Data_differenced.items():\n",
    "    ad_test(column,name=column.name)\n",
    "    print('\\n')"
   ]
  },
  {
   "cell_type": "markdown",
   "id": "ac9e9fd4",
   "metadata": {},
   "source": [
    "## هر سه سری بعد از دو بار تفاضل گیری مانا شد."
   ]
  },
  {
   "cell_type": "markdown",
   "id": "686ab03f",
   "metadata": {},
   "source": [
    "# VAR Model Creation"
   ]
  },
  {
   "cell_type": "code",
   "execution_count": 16,
   "id": "9e09e589",
   "metadata": {},
   "outputs": [
    {
     "name": "stderr",
     "output_type": "stream",
     "text": [
      "C:\\Users\\vista\\anaconda3\\lib\\site-packages\\statsmodels\\tsa\\base\\tsa_model.py:524: ValueWarning: No frequency information was provided, so inferred frequency QS-OCT will be used.\n",
      "  warnings.warn('No frequency information was'\n"
     ]
    },
    {
     "data": {
      "text/plain": [
       "  Summary of Regression Results   \n",
       "==================================\n",
       "Model:                         VAR\n",
       "Method:                        OLS\n",
       "Date:           Fri, 18, Feb, 2022\n",
       "Time:                     14:25:36\n",
       "--------------------------------------------------------------------\n",
       "No. of Equations:         3.00000    BIC:                    36.6036\n",
       "Nobs:                     196.000    HQIC:                   36.1258\n",
       "Log likelihood:          -4294.81    FPE:                3.53636e+15\n",
       "AIC:                      35.8008    Det(Omega_mle):     2.79458e+15\n",
       "--------------------------------------------------------------------\n",
       "Results for equation GDP\n",
       "=============================================================================\n",
       "                coefficient       std. error           t-stat            prob\n",
       "-----------------------------------------------------------------------------\n",
       "const              2.464528         4.151054            0.594           0.553\n",
       "L1.GDP            -0.578877         0.077368           -7.482           0.000\n",
       "L1.TOTALSL        -0.048382         0.339020           -0.143           0.887\n",
       "L1.GFDEBTN        -0.000210         0.000056           -3.776           0.000\n",
       "L2.GDP            -0.260385         0.087917           -2.962           0.003\n",
       "L2.TOTALSL        -1.262326         0.396419           -3.184           0.001\n",
       "L2.GFDEBTN        -0.000067         0.000071           -0.941           0.347\n",
       "L3.GDP            -0.212375         0.090174           -2.355           0.019\n",
       "L3.TOTALSL        -0.596215         0.443072           -1.346           0.178\n",
       "L3.GFDEBTN        -0.000112         0.000077           -1.453           0.146\n",
       "L4.GDP            -0.150835         0.087156           -1.731           0.084\n",
       "L4.TOTALSL        -0.566790         0.427984           -1.324           0.185\n",
       "L4.GFDEBTN        -0.000194         0.000079           -2.443           0.015\n",
       "L5.GDP            -0.083751         0.080602           -1.039           0.299\n",
       "L5.TOTALSL        -0.630308         0.401362           -1.570           0.116\n",
       "L5.GFDEBTN        -0.000059         0.000066           -0.900           0.368\n",
       "=============================================================================\n",
       "\n",
       "Results for equation TOTALSL\n",
       "=============================================================================\n",
       "                coefficient       std. error           t-stat            prob\n",
       "-----------------------------------------------------------------------------\n",
       "const              0.186496         0.868852            0.215           0.830\n",
       "L1.GDP             0.037151         0.016194            2.294           0.022\n",
       "L1.TOTALSL        -0.454197         0.070960           -6.401           0.000\n",
       "L1.GFDEBTN        -0.000037         0.000012           -3.214           0.001\n",
       "L2.GDP             0.073014         0.018402            3.968           0.000\n",
       "L2.TOTALSL        -0.511442         0.082974           -6.164           0.000\n",
       "L2.GFDEBTN         0.000011         0.000015            0.727           0.467\n",
       "L3.GDP             0.052293         0.018874            2.771           0.006\n",
       "L3.TOTALSL        -0.151492         0.092739           -1.634           0.102\n",
       "L3.GFDEBTN        -0.000003         0.000016           -0.171           0.864\n",
       "L4.GDP             0.089450         0.018243            4.903           0.000\n",
       "L4.TOTALSL        -0.115793         0.089581           -1.293           0.196\n",
       "L4.GFDEBTN        -0.000008         0.000017           -0.476           0.634\n",
       "L5.GDP             0.092425         0.016871            5.478           0.000\n",
       "L5.TOTALSL         0.045380         0.084009            0.540           0.589\n",
       "L5.GFDEBTN         0.000022         0.000014            1.638           0.101\n",
       "=============================================================================\n",
       "\n",
       "Results for equation GFDEBTN\n",
       "=============================================================================\n",
       "                coefficient       std. error           t-stat            prob\n",
       "-----------------------------------------------------------------------------\n",
       "const           5864.496305      5927.323231            0.989           0.322\n",
       "L1.GDP            84.218219       110.473875            0.762           0.446\n",
       "L1.TOTALSL     -1662.572772       484.088633           -3.434           0.001\n",
       "L1.GFDEBTN        -0.600395         0.079543           -7.548           0.000\n",
       "L2.GDP          -254.468037       125.537620           -2.027           0.043\n",
       "L2.TOTALSL      -796.442379       566.050033           -1.407           0.159\n",
       "L2.GFDEBTN        -0.813468         0.101928           -7.981           0.000\n",
       "L3.GDP          -125.089354       128.760098           -0.971           0.331\n",
       "L3.TOTALSL     -1134.946095       632.666547           -1.794           0.073\n",
       "L3.GFDEBTN        -0.589302         0.110297           -5.343           0.000\n",
       "L4.GDP           -74.074071       124.451130           -0.595           0.552\n",
       "L4.TOTALSL      -262.886742       611.122103           -0.430           0.667\n",
       "L4.GFDEBTN         0.033223         0.113273            0.293           0.769\n",
       "L5.GDP          -280.722604       115.092732           -2.439           0.015\n",
       "L5.TOTALSL       140.754789       573.107433            0.246           0.806\n",
       "L5.GFDEBTN        -0.099428         0.093662           -1.062           0.288\n",
       "=============================================================================\n",
       "\n",
       "Correlation matrix of residuals\n",
       "                GDP   TOTALSL   GFDEBTN\n",
       "GDP        1.000000  0.086512 -0.321543\n",
       "TOTALSL    0.086512  1.000000 -0.182345\n",
       "GFDEBTN   -0.321543 -0.182345  1.000000\n",
       "\n"
      ]
     },
     "execution_count": 16,
     "metadata": {},
     "output_type": "execute_result"
    }
   ],
   "source": [
    "model=VAR(Data_differenced)\n",
    "model_fitted=model.fit(5)\n",
    "model_fitted.summary()"
   ]
  },
  {
   "cell_type": "code",
   "execution_count": 17,
   "id": "3a7d35e2",
   "metadata": {},
   "outputs": [
    {
     "name": "stdout",
     "output_type": "stream",
     "text": [
      "AIC in i= 1 is: 36.5152837516429\n",
      "AIC in i= 2 is: 36.08941571132118\n",
      "AIC in i= 3 is: 35.88623363529654\n",
      "AIC in i= 4 is: 35.90690066685575\n",
      "AIC in i= 5 is: 35.80078081828135\n",
      "AIC in i= 6 is: 35.71946025823256\n",
      "AIC in i= 7 is: 35.728461800102\n"
     ]
    }
   ],
   "source": [
    "for i in range(1,8):\n",
    "    result=model.fit(i)\n",
    "    print('AIC in i=',i,'is:',result.aic)"
   ]
  },
  {
   "cell_type": "markdown",
   "id": "18c1d325",
   "metadata": {},
   "source": [
    "# Checking  Model Residuals by Durbin_Watson test"
   ]
  },
  {
   "cell_type": "code",
   "execution_count": 18,
   "id": "651650b8",
   "metadata": {},
   "outputs": [
    {
     "name": "stdout",
     "output_type": "stream",
     "text": [
      "GDP : 2.02\n",
      "TOTALSL : 2.13\n",
      "GFDEBTN : 1.99\n"
     ]
    }
   ],
   "source": [
    "from statsmodels.stats.stattools import durbin_watson\n",
    "out=durbin_watson(model_fitted.resid)\n",
    "for col,val in zip(Data_differenced.columns,out):\n",
    "    print(col,':',round(val,2))"
   ]
  },
  {
   "cell_type": "markdown",
   "id": "dfbcd47c",
   "metadata": {},
   "source": [
    "### it is OK in lag = 5; We do not have Corrolation in Residuals in any series models"
   ]
  },
  {
   "cell_type": "code",
   "execution_count": 19,
   "id": "1c9b8b96",
   "metadata": {},
   "outputs": [
    {
     "data": {
      "text/plain": [
       "5"
      ]
     },
     "execution_count": 19,
     "metadata": {},
     "output_type": "execute_result"
    }
   ],
   "source": [
    "lag_order=model_fitted.k_ar\n",
    "lag_order"
   ]
  },
  {
   "cell_type": "markdown",
   "id": "04fd087c",
   "metadata": {},
   "source": [
    "# Forecasting by Model"
   ]
  },
  {
   "cell_type": "code",
   "execution_count": 20,
   "id": "af945bc8",
   "metadata": {},
   "outputs": [
    {
     "data": {
      "text/plain": [
       "array([[-1.66722539e+02, -5.00449936e+01,  4.15012495e+05],\n",
       "       [ 5.93110872e+01,  1.57119450e+01, -2.75733041e+05],\n",
       "       [ 1.27244327e+02,  1.69426090e+01, -1.62724638e+05],\n",
       "       [-9.71181249e+01, -6.29856458e-02,  1.30530908e+05],\n",
       "       [-3.00524520e+01, -2.09267877e+01,  1.80662706e+05],\n",
       "       [ 3.72046388e+01, -1.98175275e+00, -1.10203717e+05],\n",
       "       [ 3.64491427e+01,  2.23405588e+01, -1.15201255e+05],\n",
       "       [-1.90284954e+01, -1.49846438e+00,  3.81517175e+04],\n",
       "       [-3.69125171e+01, -1.64717817e+01,  1.41035665e+05],\n",
       "       [ 1.30303793e+01,  4.40648195e+00, -5.99300327e+04],\n",
       "       [ 3.76901729e+01,  9.75742917e+00, -8.71666139e+04],\n",
       "       [-1.86011952e+01, -1.39461257e+00,  3.47134308e+04],\n",
       "       [-2.10788354e+01, -7.65585401e+00,  8.10932076e+04],\n",
       "       [ 1.05153258e+01,  4.48932029e-01, -2.87795652e+04],\n",
       "       [ 1.83395812e+01,  6.83887422e+00, -5.31014895e+04],\n",
       "       [-6.03982944e+00, -8.40094391e-05,  1.41934573e+04],\n",
       "       [-1.39402359e+01, -5.38565123e+00,  5.28941689e+04],\n",
       "       [ 3.81870582e+00,  5.59520508e-01, -1.19611050e+04],\n",
       "       [ 1.34873705e+01,  4.09196883e+00, -3.53100914e+04],\n",
       "       [-3.32936349e+00,  1.14509351e-01,  8.40835032e+03]])"
      ]
     },
     "execution_count": 20,
     "metadata": {},
     "output_type": "execute_result"
    }
   ],
   "source": [
    "fc_input=Data_differenced.values[-lag_order:]\n",
    "fc=model_fitted.forecast(y=fc_input,steps=20)\n",
    "fc"
   ]
  },
  {
   "cell_type": "code",
   "execution_count": 22,
   "id": "c2906d38",
   "metadata": {},
   "outputs": [
    {
     "name": "stdout",
     "output_type": "stream",
     "text": [
      "                      GDP_fc  TOTALSL_fc     GFDEBTN_fc\n",
      "observation_date                                       \n",
      "2016-10-01       -166.722539  -50.044994  415012.495465\n",
      "2017-01-01         59.311087   15.711945 -275733.040959\n",
      "2017-04-01        127.244327   16.942609 -162724.637816\n",
      "2017-07-01        -97.118125   -0.062986  130530.908289\n",
      "2017-10-01        -30.052452  -20.926788  180662.706215\n",
      "2018-01-01         37.204639   -1.981753 -110203.717174\n",
      "2018-04-01         36.449143   22.340559 -115201.254659\n",
      "2018-07-01        -19.028495   -1.498464   38151.717543\n",
      "2018-10-01        -36.912517  -16.471782  141035.665194\n",
      "2019-01-01         13.030379    4.406482  -59930.032726\n",
      "2019-04-01         37.690173    9.757429  -87166.613895\n",
      "2019-07-01        -18.601195   -1.394613   34713.430825\n",
      "2019-10-01        -21.078835   -7.655854   81093.207565\n",
      "2020-01-01         10.515326    0.448932  -28779.565192\n",
      "2020-04-01         18.339581    6.838874  -53101.489482\n",
      "2020-07-01         -6.039829   -0.000084   14193.457291\n",
      "2020-10-01        -13.940236   -5.385651   52894.168869\n",
      "2021-01-01          3.818706    0.559521  -11961.105033\n",
      "2021-04-01         13.487370    4.091969  -35310.091369\n",
      "2021-07-01         -3.329363    0.114509    8408.350320\n"
     ]
    }
   ],
   "source": [
    "Data_forecast=pd.DataFrame(fc,index=Data.index[-20:],columns=Data.columns+'_fc')\n",
    "Data_forecast.index = Data.index[-20:]\n",
    "print(Data_forecast)"
   ]
  },
  {
   "cell_type": "markdown",
   "id": "6261a869",
   "metadata": {},
   "source": [
    "# Removing Differencing Effect in Forecasted Value"
   ]
  },
  {
   "cell_type": "code",
   "execution_count": 23,
   "id": "649a6690",
   "metadata": {},
   "outputs": [],
   "source": [
    "def transformation(df_train,df_forecast,second_diff=False):\n",
    "    df_fc=df_forecast.copy()\n",
    "    columns=df_train.columns\n",
    "    for col in columns:\n",
    "        if second_diff:\n",
    "            df_fc[str(col)+'_1d']=df_fc[str(col)+'_fc'].cumsum()+(df_train[col].iloc[-1]-df_train[col].iloc[-2])\n",
    "        df_fc[str(col)+'_forecast']=df_train[col].iloc[-1]+df_fc[str(col)+'_1d'].cumsum()\n",
    "    return df_fc"
   ]
  },
  {
   "cell_type": "code",
   "execution_count": 24,
   "id": "d29ffbb0",
   "metadata": {},
   "outputs": [
    {
     "name": "stdout",
     "output_type": "stream",
     "text": [
      "                      GDP_fc  TOTALSL_fc     GFDEBTN_fc      GDP_1d  \\\n",
      "observation_date                                                      \n",
      "2016-10-01       -166.722539  -50.044994  415012.495465   -2.880539   \n",
      "2017-01-01         59.311087   15.711945 -275733.040959   56.430548   \n",
      "2017-04-01        127.244327   16.942609 -162724.637816  183.674875   \n",
      "2017-07-01        -97.118125   -0.062986  130530.908289   86.556750   \n",
      "2017-10-01        -30.052452  -20.926788  180662.706215   56.504298   \n",
      "2018-01-01         37.204639   -1.981753 -110203.717174   93.708937   \n",
      "2018-04-01         36.449143   22.340559 -115201.254659  130.158079   \n",
      "2018-07-01        -19.028495   -1.498464   38151.717543  111.129584   \n",
      "2018-10-01        -36.912517  -16.471782  141035.665194   74.217067   \n",
      "2019-01-01         13.030379    4.406482  -59930.032726   87.247446   \n",
      "2019-04-01         37.690173    9.757429  -87166.613895  124.937619   \n",
      "2019-07-01        -18.601195   -1.394613   34713.430825  106.336424   \n",
      "2019-10-01        -21.078835   -7.655854   81093.207565   85.257589   \n",
      "2020-01-01         10.515326    0.448932  -28779.565192   95.772914   \n",
      "2020-04-01         18.339581    6.838874  -53101.489482  114.112496   \n",
      "2020-07-01         -6.039829   -0.000084   14193.457291  108.072666   \n",
      "2020-10-01        -13.940236   -5.385651   52894.168869   94.132430   \n",
      "2021-01-01          3.818706    0.559521  -11961.105033   97.951136   \n",
      "2021-04-01         13.487370    4.091969  -35310.091369  111.438507   \n",
      "2021-07-01         -3.329363    0.114509    8408.350320  108.109143   \n",
      "\n",
      "                  GDP_forecast  TOTALSL_1d  TOTALSL_forecast     GFDEBTN_1d  \\\n",
      "observation_date                                                              \n",
      "2016-10-01        18772.578461    7.505096       3565.781273  606866.495465   \n",
      "2017-01-01        18829.009008   23.217041       3588.998315  331133.454506   \n",
      "2017-04-01        19012.683883   40.159650       3629.157965  168408.816689   \n",
      "2017-07-01        19099.240633   40.096665       3669.254630  298939.724978   \n",
      "2017-10-01        19155.744931   19.169877       3688.424507  479602.431193   \n",
      "2018-01-01        19249.453868   17.188124       3705.612631  369398.714020   \n",
      "2018-04-01        19379.611947   39.528683       3745.141314  254197.459361   \n",
      "2018-07-01        19490.741531   38.030219       3783.171533  292349.176904   \n",
      "2018-10-01        19564.958598   21.558437       3804.729970  433384.842098   \n",
      "2019-01-01        19652.206045   25.964919       3830.694889  373454.809372   \n",
      "2019-04-01        19777.143664   35.722348       3866.417238  286288.195477   \n",
      "2019-07-01        19883.480088   34.327736       3900.744973  321001.626302   \n",
      "2019-10-01        19968.737676   26.671882       3927.416855  402094.833867   \n",
      "2020-01-01        20064.510591   27.120814       3954.537669  373315.268675   \n",
      "2020-04-01        20178.623087   33.959688       3988.497357  320213.779194   \n",
      "2020-07-01        20286.695753   33.959604       4022.456960  334407.236484   \n",
      "2020-10-01        20380.828183   28.573953       4051.030913  387301.405353   \n",
      "2021-01-01        20478.779319   29.133473       4080.164386  375340.300321   \n",
      "2021-04-01        20590.217826   33.225442       4113.389828  340030.208951   \n",
      "2021-07-01        20698.326969   33.339951       4146.729780  348438.559271   \n",
      "\n",
      "                  GFDEBTN_forecast  \n",
      "observation_date                    \n",
      "2016-10-01            2.018031e+07  \n",
      "2017-01-01            2.051144e+07  \n",
      "2017-04-01            2.067985e+07  \n",
      "2017-07-01            2.097879e+07  \n",
      "2017-10-01            2.145840e+07  \n",
      "2018-01-01            2.182779e+07  \n",
      "2018-04-01            2.208199e+07  \n",
      "2018-07-01            2.237434e+07  \n",
      "2018-10-01            2.280773e+07  \n",
      "2019-01-01            2.318118e+07  \n",
      "2019-04-01            2.346747e+07  \n",
      "2019-07-01            2.378847e+07  \n",
      "2019-10-01            2.419057e+07  \n",
      "2020-01-01            2.456388e+07  \n",
      "2020-04-01            2.488409e+07  \n",
      "2020-07-01            2.521850e+07  \n",
      "2020-10-01            2.560580e+07  \n",
      "2021-01-01            2.598114e+07  \n",
      "2021-04-01            2.632117e+07  \n",
      "2021-07-01            2.666961e+07  \n"
     ]
    }
   ],
   "source": [
    "Data_final=transformation(Data_train,Data_forecast,second_diff=True)\n",
    "Data_final.index = Data.index[-20:]\n",
    "print(Data_final)"
   ]
  },
  {
   "cell_type": "code",
   "execution_count": 25,
   "id": "3c8b1bcc",
   "metadata": {},
   "outputs": [
    {
     "data": {
      "text/html": [
       "<div>\n",
       "<style scoped>\n",
       "    .dataframe tbody tr th:only-of-type {\n",
       "        vertical-align: middle;\n",
       "    }\n",
       "\n",
       "    .dataframe tbody tr th {\n",
       "        vertical-align: top;\n",
       "    }\n",
       "\n",
       "    .dataframe thead th {\n",
       "        text-align: right;\n",
       "    }\n",
       "</style>\n",
       "<table border=\"1\" class=\"dataframe\">\n",
       "  <thead>\n",
       "    <tr style=\"text-align: right;\">\n",
       "      <th></th>\n",
       "      <th>GDP_forecast</th>\n",
       "      <th>TOTALSL_forecast</th>\n",
       "      <th>GFDEBTN_forecast</th>\n",
       "    </tr>\n",
       "    <tr>\n",
       "      <th>observation_date</th>\n",
       "      <th></th>\n",
       "      <th></th>\n",
       "      <th></th>\n",
       "    </tr>\n",
       "  </thead>\n",
       "  <tbody>\n",
       "    <tr>\n",
       "      <th>2016-10-01</th>\n",
       "      <td>18772.578461</td>\n",
       "      <td>3565.781273</td>\n",
       "      <td>2.018031e+07</td>\n",
       "    </tr>\n",
       "    <tr>\n",
       "      <th>2017-01-01</th>\n",
       "      <td>18829.009008</td>\n",
       "      <td>3588.998315</td>\n",
       "      <td>2.051144e+07</td>\n",
       "    </tr>\n",
       "    <tr>\n",
       "      <th>2017-04-01</th>\n",
       "      <td>19012.683883</td>\n",
       "      <td>3629.157965</td>\n",
       "      <td>2.067985e+07</td>\n",
       "    </tr>\n",
       "    <tr>\n",
       "      <th>2017-07-01</th>\n",
       "      <td>19099.240633</td>\n",
       "      <td>3669.254630</td>\n",
       "      <td>2.097879e+07</td>\n",
       "    </tr>\n",
       "    <tr>\n",
       "      <th>2017-10-01</th>\n",
       "      <td>19155.744931</td>\n",
       "      <td>3688.424507</td>\n",
       "      <td>2.145840e+07</td>\n",
       "    </tr>\n",
       "    <tr>\n",
       "      <th>2018-01-01</th>\n",
       "      <td>19249.453868</td>\n",
       "      <td>3705.612631</td>\n",
       "      <td>2.182779e+07</td>\n",
       "    </tr>\n",
       "    <tr>\n",
       "      <th>2018-04-01</th>\n",
       "      <td>19379.611947</td>\n",
       "      <td>3745.141314</td>\n",
       "      <td>2.208199e+07</td>\n",
       "    </tr>\n",
       "    <tr>\n",
       "      <th>2018-07-01</th>\n",
       "      <td>19490.741531</td>\n",
       "      <td>3783.171533</td>\n",
       "      <td>2.237434e+07</td>\n",
       "    </tr>\n",
       "    <tr>\n",
       "      <th>2018-10-01</th>\n",
       "      <td>19564.958598</td>\n",
       "      <td>3804.729970</td>\n",
       "      <td>2.280773e+07</td>\n",
       "    </tr>\n",
       "    <tr>\n",
       "      <th>2019-01-01</th>\n",
       "      <td>19652.206045</td>\n",
       "      <td>3830.694889</td>\n",
       "      <td>2.318118e+07</td>\n",
       "    </tr>\n",
       "    <tr>\n",
       "      <th>2019-04-01</th>\n",
       "      <td>19777.143664</td>\n",
       "      <td>3866.417238</td>\n",
       "      <td>2.346747e+07</td>\n",
       "    </tr>\n",
       "    <tr>\n",
       "      <th>2019-07-01</th>\n",
       "      <td>19883.480088</td>\n",
       "      <td>3900.744973</td>\n",
       "      <td>2.378847e+07</td>\n",
       "    </tr>\n",
       "    <tr>\n",
       "      <th>2019-10-01</th>\n",
       "      <td>19968.737676</td>\n",
       "      <td>3927.416855</td>\n",
       "      <td>2.419057e+07</td>\n",
       "    </tr>\n",
       "    <tr>\n",
       "      <th>2020-01-01</th>\n",
       "      <td>20064.510591</td>\n",
       "      <td>3954.537669</td>\n",
       "      <td>2.456388e+07</td>\n",
       "    </tr>\n",
       "    <tr>\n",
       "      <th>2020-04-01</th>\n",
       "      <td>20178.623087</td>\n",
       "      <td>3988.497357</td>\n",
       "      <td>2.488409e+07</td>\n",
       "    </tr>\n",
       "    <tr>\n",
       "      <th>2020-07-01</th>\n",
       "      <td>20286.695753</td>\n",
       "      <td>4022.456960</td>\n",
       "      <td>2.521850e+07</td>\n",
       "    </tr>\n",
       "    <tr>\n",
       "      <th>2020-10-01</th>\n",
       "      <td>20380.828183</td>\n",
       "      <td>4051.030913</td>\n",
       "      <td>2.560580e+07</td>\n",
       "    </tr>\n",
       "    <tr>\n",
       "      <th>2021-01-01</th>\n",
       "      <td>20478.779319</td>\n",
       "      <td>4080.164386</td>\n",
       "      <td>2.598114e+07</td>\n",
       "    </tr>\n",
       "    <tr>\n",
       "      <th>2021-04-01</th>\n",
       "      <td>20590.217826</td>\n",
       "      <td>4113.389828</td>\n",
       "      <td>2.632117e+07</td>\n",
       "    </tr>\n",
       "    <tr>\n",
       "      <th>2021-07-01</th>\n",
       "      <td>20698.326969</td>\n",
       "      <td>4146.729780</td>\n",
       "      <td>2.666961e+07</td>\n",
       "    </tr>\n",
       "  </tbody>\n",
       "</table>\n",
       "</div>"
      ],
      "text/plain": [
       "                  GDP_forecast  TOTALSL_forecast  GFDEBTN_forecast\n",
       "observation_date                                                  \n",
       "2016-10-01        18772.578461       3565.781273      2.018031e+07\n",
       "2017-01-01        18829.009008       3588.998315      2.051144e+07\n",
       "2017-04-01        19012.683883       3629.157965      2.067985e+07\n",
       "2017-07-01        19099.240633       3669.254630      2.097879e+07\n",
       "2017-10-01        19155.744931       3688.424507      2.145840e+07\n",
       "2018-01-01        19249.453868       3705.612631      2.182779e+07\n",
       "2018-04-01        19379.611947       3745.141314      2.208199e+07\n",
       "2018-07-01        19490.741531       3783.171533      2.237434e+07\n",
       "2018-10-01        19564.958598       3804.729970      2.280773e+07\n",
       "2019-01-01        19652.206045       3830.694889      2.318118e+07\n",
       "2019-04-01        19777.143664       3866.417238      2.346747e+07\n",
       "2019-07-01        19883.480088       3900.744973      2.378847e+07\n",
       "2019-10-01        19968.737676       3927.416855      2.419057e+07\n",
       "2020-01-01        20064.510591       3954.537669      2.456388e+07\n",
       "2020-04-01        20178.623087       3988.497357      2.488409e+07\n",
       "2020-07-01        20286.695753       4022.456960      2.521850e+07\n",
       "2020-10-01        20380.828183       4051.030913      2.560580e+07\n",
       "2021-01-01        20478.779319       4080.164386      2.598114e+07\n",
       "2021-04-01        20590.217826       4113.389828      2.632117e+07\n",
       "2021-07-01        20698.326969       4146.729780      2.666961e+07"
      ]
     },
     "execution_count": 25,
     "metadata": {},
     "output_type": "execute_result"
    }
   ],
   "source": [
    "Data_final.loc[:,['GDP_forecast','TOTALSL_forecast','GFDEBTN_forecast']]"
   ]
  },
  {
   "cell_type": "code",
   "execution_count": 26,
   "id": "63296f4f",
   "metadata": {},
   "outputs": [
    {
     "data": {
      "text/plain": [
       "[<matplotlib.lines.Line2D at 0x1dc93b6c0a0>]"
      ]
     },
     "execution_count": 26,
     "metadata": {},
     "output_type": "execute_result"
    },
    {
     "data": {
      "image/png": "[encoded data removed]",
      "text/plain": [
       "<Figure size 432x288 with 1 Axes>"
      ]
     },
     "metadata": {
      "needs_background": "light"
     },
     "output_type": "display_data"
    }
   ],
   "source": [
    "plt.plot(Data_final['GDP_forecast'], color = 'black')\n",
    "plt.plot(Data_test['GDP'])"
   ]
  },
  {
   "cell_type": "code",
   "execution_count": 28,
   "id": "723373ba",
   "metadata": {},
   "outputs": [
    {
     "data": {
      "text/plain": [
       "[<matplotlib.lines.Line2D at 0x1dc93c1ebb0>]"
      ]
     },
     "execution_count": 28,
     "metadata": {},
     "output_type": "execute_result"
    },
    {
     "data": {
      "image/png": "[encoded data removed]",
      "text/plain": [
       "<Figure size 432x288 with 1 Axes>"
      ]
     },
     "metadata": {
      "needs_background": "light"
     },
     "output_type": "display_data"
    }
   ],
   "source": [
    "plt.plot(Data_final['GFDEBTN_forecast'], color = 'black')\n",
    "plt.plot(Data_test['GFDEBTN'])"
   ]
  },
  {
   "cell_type": "code",
   "execution_count": 29,
   "id": "fb5b7e7f",
   "metadata": {},
   "outputs": [
    {
     "data": {
      "text/plain": [
       "[<matplotlib.lines.Line2D at 0x1dc93c425e0>]"
      ]
     },
     "execution_count": 29,
     "metadata": {},
     "output_type": "execute_result"
    },
    {
     "data": {
      "image/png": "[encoded data removed]",
      "text/plain": [
       "<Figure size 432x288 with 1 Axes>"
      ]
     },
     "metadata": {
      "needs_background": "light"
     },
     "output_type": "display_data"
    }
   ],
   "source": [
    "plt.plot(Data_final['TOTALSL_forecast'], color = 'black')\n",
    "plt.plot(Data_test['TOTALSL'])"
   ]
  }
 ],
 "metadata": {
  "kernelspec": {
   "display_name": "Python 3",
   "language": "python",
   "name": "python3"
  },
  "language_info": {
   "codemirror_mode": {
    "name": "ipython",
    "version": 3
   },
   "file_extension": ".py",
   "mimetype": "text/x-python",
   "name": "python",
   "nbconvert_exporter": "python",
   "pygments_lexer": "ipython3",
   "version": "3.8.8"
  }
 },
 "nbformat": 4,
 "nbformat_minor": 5
}
